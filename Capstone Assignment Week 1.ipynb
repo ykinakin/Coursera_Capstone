{
 "cells": [
  {
   "cell_type": "markdown",
   "metadata": {},
   "source": [
    "## Introduction"
   ]
  },
  {
   "cell_type": "markdown",
   "metadata": {},
   "source": [
    "While there are a number of coffee shops throughout Toronto, it is important to focus precisely on a particular market to be successful. For example a high end, high throughput shop with early opening and closing hours might work well in a central business district, while something that offers more seating and greater meal selection and is open late might appeal to a residential area. Proximity to amenities that are open late, such as movie of dance theaters, may draw enough sophisticated consumers to justify a loss of early morning traffic. For this exercise, I would like to locate an optimal area in which to open a small coffee shop. "
   ]
  },
  {
   "cell_type": "markdown",
   "metadata": {},
   "source": [
    "## Data"
   ]
  },
  {
   "cell_type": "markdown",
   "metadata": {},
   "source": [
    "I will be using data from FourSquare and latitude and longitude data on Toronto neighbourhoods from the University of Toronto digital archives. The FourSquare data will include venues as in the lab 3-3-2, \"Segmenting and Clustering Neighbourhoods in New York City\", and an example of the geojson data is shown below:\n",
    "\n",
    "{'type': 'FeatureCollection',\n",
    " 'crs': {'type': 'name',\n",
    "  'properties': {'name': 'urn:ogc:def:crs:OGC:1.3:CRS84'}},\n",
    " 'features': [{'type': 'Feature',\n",
    "   'properties': {'_id': 2661,\n",
    "    'AREA_ID': 25886861,\n",
    "    'AREA_ATTR_ID': 25926662,\n",
    "    'PARENT_AREA_ID': 49885,\n",
    "    'AREA_SHORT_CODE': 94,\n",
    "    'AREA_LONG_CODE': 94,\n",
    "    'AREA_NAME': 'Wychwood (94)',\n",
    "    'AREA_DESC': 'Wychwood (94)',\n",
    "    'X': None,\n",
    "    'Y': None,\n",
    "    'LONGITUDE': -79.425514947,\n",
    "    'LATITUDE': 43.6769192679,\n",
    "    'OBJECTID': 16491505,\n",
    "    'Shape__Area': 3217959.609375,\n",
    "    'Shape__Length': 7515.779658331329},"
   ]
  }
 ],
 "metadata": {
  "kernelspec": {
   "display_name": "Python 3",
   "language": "python",
   "name": "python3"
  },
  "language_info": {
   "codemirror_mode": {
    "name": "ipython",
    "version": 3
   },
   "file_extension": ".py",
   "mimetype": "text/x-python",
   "name": "python",
   "nbconvert_exporter": "python",
   "pygments_lexer": "ipython3",
   "version": "3.7.1"
  }
 },
 "nbformat": 4,
 "nbformat_minor": 2
}
